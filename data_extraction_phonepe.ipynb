{
 "cells": [
  {
   "cell_type": "code",
   "execution_count": null,
   "id": "3435dee0",
   "metadata": {},
   "outputs": [],
   "source": [
    "import os\n",
    "from os import walk\n",
    "from pathlib import Path\n",
    "import json\n",
    "import pandas as pd"
   ]
  },
  {
   "cell_type": "code",
   "execution_count": null,
   "id": "e36e7db7",
   "metadata": {},
   "outputs": [],
   "source": [
    "agg_trans_table = pd.DataFrame({})\n",
    "agg_trans_summary_table = pd.DataFrame({})"
   ]
  },
  {
   "cell_type": "code",
   "execution_count": null,
   "id": "d1f38478",
   "metadata": {},
   "outputs": [],
   "source": [
    "def agg_trans_table_fn(state,year,quater,path):\n",
    "    global agg_trans_table # the global keyword allows us to modify the variable outside of the current scope.\n",
    "    global agg_trans_summary_table\n",
    "    data = pd.read_json(path)\n",
    "    \n",
    "    dateFrom = data['data']['from']\n",
    "    dateTo = data['data']['to']\n",
    "    rows = {'state' : state, 'year' : year, 'quater' : quater, 'date_from' : dateFrom, 'date_to' : dateTo}\n",
    "    agg_trans_summary_table = agg_trans_summary_table.append(rows, ignore_index = True)\n",
    "    \n",
    "    second_set =  data['data']['transactionData']\n",
    "    if second_set:\n",
    "        for i in second_set:\n",
    "            second_set_rows = {'payment_mode' : i['name'], \n",
    "                               'total_transaction_count' : i['paymentInstruments'][0]['count'], \n",
    "                               'total_amount' : i['paymentInstruments'][0]['amount'], \n",
    "                               'quater' : quater, \n",
    "                               'year' : year, \n",
    "                               'state' : state}\n",
    "            agg_trans_table = agg_trans_table.append(second_set_rows, ignore_index = True)\n",
    "            \n",
    "path_to_file = r'data\\\\aggregated\\\\transaction\\\\country\\\\india\\\\state'\n",
    "files_in_states = os.listdir(path_to_file)\n",
    "\n",
    "for i in files_in_states:\n",
    "    pick_one_state = path_to_file+'\\\\'+i\n",
    "    year_in_state = os.listdir(pick_one_state)\n",
    "    for j in year_in_state:\n",
    "        pick_one_year = pick_one_state+'\\\\'+j\n",
    "        files = []\n",
    "        for (dirpath, dirnames, filenames) in walk(pick_one_year): # OS.walk() generate the file names in a directory tree by walking along the tree\n",
    "            files.extend(filenames)\n",
    "            break\n",
    "        for k in files:\n",
    "            pick_one_quater = pick_one_year+'\\\\'+k\n",
    "            quater_of_year = Path(pick_one_quater).stem\n",
    "            \n",
    "            agg_trans_table_fn(i,j,quater_of_year,pick_one_quater)\n",
    "            \n",
    "            "
   ]
  },
  {
   "cell_type": "code",
   "execution_count": null,
   "id": "ccc1bfe0",
   "metadata": {},
   "outputs": [],
   "source": [
    "# agg_trans_table\n",
    "agg_trans_table.to_csv('agg_trans_table.csv', index = False)\n",
    "print(len(agg_trans_table))\n",
    "agg_trans_table"
   ]
  },
  {
   "cell_type": "code",
   "execution_count": null,
   "id": "a63669cb",
   "metadata": {},
   "outputs": [],
   "source": [
    "# agg_trans_summary_table\n",
    "agg_trans_summary_table.to_csv('agg_trans_summary_table.csv', index=False)\n",
    "print(len(agg_trans_summary_table))\n",
    "agg_trans_summary_table"
   ]
  },
  {
   "cell_type": "code",
   "execution_count": null,
   "id": "79803051",
   "metadata": {},
   "outputs": [],
   "source": [
    "agg_user_table = pd.DataFrame({})\n",
    "agg_user_summary_table = pd.DataFrame({})"
   ]
  },
  {
   "cell_type": "code",
   "execution_count": null,
   "id": "063dce08",
   "metadata": {},
   "outputs": [],
   "source": [
    "def agg_user_table_fn(state,year,quater,path):\n",
    "    global agg_user_table\n",
    "    global agg_user_summary_table\n",
    "    data = pd.read_json(path)\n",
    "    \n",
    "    registerd_users = data['data']['aggregated']['registeredUsers']\n",
    "    app_opens = data['data']['aggregated']['appOpens']\n",
    "    first_set_rows = {'state' : state, \n",
    "                      'year' : year, \n",
    "                      'quater' : quater, \n",
    "                      'registered_users' : registerd_users, \n",
    "                      'app_opens' : app_opens}\n",
    "    agg_user_summary_table = agg_user_summary_table.append(first_set_rows, ignore_index = True)\n",
    "    \n",
    "    second_set = data['data']['usersByDevice']\n",
    "    if second_set:\n",
    "        for i in second_set:\n",
    "            second_set_rows = {'brand_name' : i['brand'], \n",
    "                               'registered_user_count_per_brand' : i['count'], \n",
    "                               'percentage_share_of_brand' : i['percentage'], \n",
    "                               'quater' : quater, \n",
    "                               'year' : year, \n",
    "                               'state' : state}\n",
    "            agg_user_table = agg_user_table.append(second_set_rows, ignore_index = True)\n",
    "            \n",
    "path_to_file = r'data\\\\aggregated\\\\user\\\\country\\\\india\\\\state'\n",
    "files_in_state = os.listdir(path_to_file)\n",
    "\n",
    "for i in files_in_state:\n",
    "    pick_one_state = path_to_file+'\\\\'+i\n",
    "    year_in_state = os.listdir(pick_one_state)\n",
    "    for j in year_in_state:\n",
    "        pick_one_year = pick_one_state+'\\\\'+j\n",
    "        files = []\n",
    "        for (dirpath, dirnames, filenames) in walk(pick_one_year):\n",
    "            files.extend(filenames)\n",
    "            break\n",
    "        for k in files:\n",
    "            pick_one_quater = pick_one_year+'\\\\'+k\n",
    "            quater_of_year = Path(pick_one_quater).stem\n",
    "            \n",
    "            agg_user_table_fn(i,j,quater_of_year,pick_one_quater)"
   ]
  },
  {
   "cell_type": "code",
   "execution_count": null,
   "id": "c6f45941",
   "metadata": {},
   "outputs": [],
   "source": [
    "#agg_user_table\n",
    "agg_user_table.to_csv('agg_user_table.csv',index=False)\n",
    "print(len(agg_user_table))\n",
    "agg_user_table"
   ]
  },
  {
   "cell_type": "code",
   "execution_count": null,
   "id": "f5978b45",
   "metadata": {},
   "outputs": [],
   "source": [
    "#agg_user_summary_table\n",
    "agg_user_summary_table.to_csv('agg_user_summary_table.csv',index=False)\n",
    "print(len(agg_user_summary_table))\n",
    "agg_user_summary_table"
   ]
  },
  {
   "cell_type": "code",
   "execution_count": null,
   "id": "994c84ac",
   "metadata": {},
   "outputs": [],
   "source": [
    "#map_trans_table\n",
    "map_trans_table = pd.DataFrame({})"
   ]
  },
  {
   "cell_type": "code",
   "execution_count": null,
   "id": "36638dd3",
   "metadata": {},
   "outputs": [],
   "source": [
    "def map_trans_table_fn(state,year,quater,path):\n",
    "    global map_trans_table\n",
    "    data = pd.read_json(path)\n",
    "    \n",
    "    first_set = data['data']['hoverDataList']\n",
    "    if first_set:\n",
    "        for i in first_set:\n",
    "            rows = {'district_name' : i['name'],\n",
    "                    'total_trasaction_count' : i['metric'][0]['count'],\n",
    "                    'total_amount' : i['metric'][0]['amount'],\n",
    "                    'quater' : quater, \n",
    "                    'year' : year, \n",
    "                    'state' : state}\n",
    "            map_trans_table = map_trans_table.append(rows, ignore_index = True)\n",
    "            \n",
    "path_to_file = r'data\\\\map\\\\transaction\\\\hover\\\\country\\\\india\\\\state'\n",
    "files_in_state = os.listdir(path_to_file)\n",
    "\n",
    "for i in files_in_state:\n",
    "    pick_one_state = path_to_file+'\\\\'+i\n",
    "    year_in_state = os.listdir(pick_one_state)\n",
    "    for j in year_in_state:\n",
    "        pick_one_year = pick_one_state+'\\\\'+j\n",
    "        files = []\n",
    "        for (dirpath, dirnames, filenames) in walk(pick_one_year):\n",
    "            files.extend(filenames)\n",
    "            break\n",
    "        for k in files:\n",
    "            pick_one_quater = pick_one_year+'\\\\'+k\n",
    "            quater_of_year = Path(pick_one_quater).stem\n",
    "            \n",
    "            map_trans_table_fn(i,j,quater_of_year,pick_one_quater)\n",
    "            "
   ]
  },
  {
   "cell_type": "code",
   "execution_count": null,
   "id": "a2f8f7ab",
   "metadata": {},
   "outputs": [],
   "source": [
    "map_trans_table.to_csv('map_trans_table.csv',index=False)\n",
    "print(len(map_trans_table))\n",
    "map_trans_table"
   ]
  },
  {
   "cell_type": "code",
   "execution_count": null,
   "id": "486ae345",
   "metadata": {},
   "outputs": [],
   "source": [
    "# map user table\n",
    "map_user_table = pd.DataFrame({})"
   ]
  },
  {
   "cell_type": "code",
   "execution_count": null,
   "id": "431e16ac",
   "metadata": {},
   "outputs": [],
   "source": [
    "def map_user_table_fn(state,year,quater,path):\n",
    "    global map_user_table\n",
    "    data = pd.read_json(path)\n",
    "    \n",
    "    first_set = data['data']['hoverData']\n",
    "    if first_set:\n",
    "        for i in first_set:\n",
    "            rows = {'place_name' : i,\n",
    "                    'registered_user_count' : first_set[i]['registeredUsers'],\n",
    "                    'app_openings' : first_set[i]['appOpens'],\n",
    "                    'quater' : quater, \n",
    "                    'year' : year, \n",
    "                    'state' : state}\n",
    "            map_user_table = map_user_table.append(rows, ignore_index = True)\n",
    "            \n",
    "path_to_file = r'data\\\\map\\\\user\\\\hover\\\\country\\\\india\\\\state'\n",
    "files_in_state = os.listdir(path_to_file)\n",
    "\n",
    "for i in files_in_state:\n",
    "    pick_one_state = path_to_file+'\\\\'+i\n",
    "    year_in_state = os.listdir(pick_one_state)\n",
    "    for j in year_in_state:\n",
    "        pick_one_year = pick_one_state+'\\\\'+j\n",
    "        files = []\n",
    "        for (dirpath, dirnames, filenames) in walk(pick_one_year):\n",
    "            files.extend(filenames)\n",
    "            break\n",
    "        for k in files:\n",
    "            pick_one_quater = pick_one_year+'\\\\'+k\n",
    "            quater_of_year = Path(pick_one_quater).stem\n",
    "            \n",
    "            map_user_table_fn(i,j,quater_of_year,pick_one_quater)"
   ]
  },
  {
   "cell_type": "code",
   "execution_count": null,
   "id": "a70fe2d1",
   "metadata": {},
   "outputs": [],
   "source": [
    "map_user_table.to_csv('map_user_table.csv',index=False)\n",
    "print(len(map_user_table))\n",
    "map_user_table"
   ]
  }
 ],
 "metadata": {
  "kernelspec": {
   "display_name": "Python 3 (ipykernel)",
   "language": "python",
   "name": "python3"
  },
  "language_info": {
   "codemirror_mode": {
    "name": "ipython",
    "version": 3
   },
   "file_extension": ".py",
   "mimetype": "text/x-python",
   "name": "python",
   "nbconvert_exporter": "python",
   "pygments_lexer": "ipython3",
   "version": "3.9.13"
  }
 },
 "nbformat": 4,
 "nbformat_minor": 5
}
